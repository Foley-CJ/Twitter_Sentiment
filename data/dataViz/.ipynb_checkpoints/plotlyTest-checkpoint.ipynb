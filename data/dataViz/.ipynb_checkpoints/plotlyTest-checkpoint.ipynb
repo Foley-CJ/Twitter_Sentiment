{
 "cells": [
  {
   "cell_type": "code",
   "execution_count": 1,
   "metadata": {
    "collapsed": true
   },
   "outputs": [],
   "source": [
    "import pandas as pd\n",
    "import plotly as py\n",
    "from plotly.graph_objs import * "
   ]
  },
  {
   "cell_type": "code",
   "execution_count": 2,
   "metadata": {
    "collapsed": true
   },
   "outputs": [],
   "source": [
    "py.tools.set_credentials_file(username='CJ_Foley', api_key='OrK20vX9xSbptcZt0h0H')"
   ]
  },
  {
   "cell_type": "code",
   "execution_count": 28,
   "metadata": {
    "collapsed": false
   },
   "outputs": [
    {
     "data": {
      "text/plain": [
       "'<iframe id=\"igraph\" scrolling=\"no\" style=\"border:none;\" seamless=\"seamless\" src=\"https://plot.ly/~CJ_Foley/94.embed\" height=\"525\" width=\"100%\"></iframe>'"
      ]
     },
     "execution_count": 28,
     "metadata": {},
     "output_type": "execute_result"
    }
   ],
   "source": [
    "#py.tools.get_embed('https://plot.ly/~CJ_Foley/94')\n",
    "\n"
   ]
  },
  {
   "cell_type": "code",
   "execution_count": 3,
   "metadata": {
    "collapsed": true
   },
   "outputs": [],
   "source": [
    "data = pd.DataFrame([['2015-01-01',10,'mcd'],\n",
    "                    ['2015-02-01',14,'mcd'],\n",
    "                    ['2015-03-01',20,'mcd'],\n",
    "                    ['2015-04-01',15,'mcd'],\n",
    "                    ['2015-05-01',22,'mcd'],\n",
    "                    ['2015-01-01',6,'tb'],\n",
    "                    ['2015-02-01',9,'tb'],\n",
    "                    ['2015-03-01',2,'tb'],\n",
    "                    ['2015-04-01',8,'tb'],\n",
    "                    ['2015-04-01',4,'bt']],\n",
    "                    columns = ['date','count','place'])"
   ]
  },
  {
   "cell_type": "code",
   "execution_count": null,
   "metadata": {
    "collapsed": true
   },
   "outputs": [],
   "source": []
  },
  {
   "cell_type": "code",
   "execution_count": null,
   "metadata": {
    "collapsed": true
   },
   "outputs": [],
   "source": []
  },
  {
   "cell_type": "code",
   "execution_count": 6,
   "metadata": {
    "collapsed": true
   },
   "outputs": [
    {
     "name": "stderr",
     "output_type": "stream",
     "text": [
      "/Users/wmj809/anaconda3/lib/python3.6/site-packages/psycopg2/__init__.py:144: UserWarning:\n",
      "\n",
      "The psycopg2 wheel package will be renamed from release 2.8; in order to keep installing from binary please use \"pip install psycopg2-binary\" instead. For details see: <http://initd.org/psycopg/docs/install.html#binary-install-from-pypi>.\n",
      "\n"
     ]
    }
   ],
   "source": [
    "\n",
    "# coding: utf-8\n",
    "\n",
    "# In[33]:\n",
    "\n",
    "import getpass\n",
    "import psycopg2\n",
    "#import giraffez as gd\n",
    "import pandas as pd\n",
    "import numpy as np\n",
    "import plotly as py\n",
    "from plotly.graph_objs import * \n",
    "from datetime import datetime\n",
    "\n",
    "#You must update erro1 and error2 with passwords.\n",
    "\n",
    "\n",
    "py.tools.set_credentials_file(username='CJ_Foley', api_key='OrK20vX9xSbptcZt0h0H')\n",
    "\n",
    "\n",
    "# In[11]:\n",
    "host = 'marketingonedev.ckw1cnkj4ekw.us-east-1.redshift.amazonaws.com'\n",
    "port = '5439'\n",
    "db='marketingonedev'\n",
    "user='admin'\n",
    "password='FSAdmin1'\n",
    "\n",
    "cdpConnection = psycopg2.connect(database=db, \n",
    "                                 host=host,\n",
    "                                 port=port,\n",
    "                                 user=user,\n",
    "                                 password=password)\n",
    "\n",
    "\n",
    "# In[12]:\n",
    "\n",
    "cur = cdpConnection.cursor()\n",
    "\n",
    "\n",
    "# In[29]:\n",
    "\n",
    "validValues = {'dimension':['channel','channel_subtype','agency','geo_city_nm','browser_desc'],\n",
    "               'uniqueness':['visits','visitors']}\n",
    "\n",
    "\n",
    "# In[10]:\n",
    "\n",
    "def selector(key,dataDict):\n",
    "    global zed \n",
    "    zed = input('Select %s %s:  ' % (key,dataDict[key]))\n",
    "    if zed not in dataDict[key]:\n",
    "        print ('try again.')\n",
    "        selector(key,validValues)\n",
    "    \n",
    "    #designed to comment out vst_seq_num\n",
    "    if zed =='visits':\n",
    "        zed = '--'\n",
    "    elif zed == 'visitors':\n",
    "        zed = ''\n",
    "    \n",
    "    return zed\n",
    "\n",
    "\n",
    "# In[3]:\n",
    "\n",
    "def datePicker(x):\n",
    "    choice = 'start'\n",
    "    if x == 1:\n",
    "        choice = 'end'\n",
    "       \n",
    "    global zedDate\n",
    "    zedDate = input('Select %s date [YYYY-MM-DD]:' % choice)\n",
    "    print (zedDate)\n",
    "    try:\n",
    "        datetime_object = datetime.strptime(zedDate, '%Y-%m-%d')\n",
    "    except:\n",
    "        print ('Please try again')\n",
    "        datePicker(x)\n",
    "    return zedDate\n",
    "\n",
    "\n",
    "# In[30]:\n",
    "\n",
    "def dataPull(dim,start,end,unique):\n",
    "    print ('preparing your data')\n",
    "    query = '''select  cast(web_actvy_dt as date) as web_date,\n",
    "            upper(%s) as %s,\n",
    "            count(*)\n",
    "    from \n",
    "    (select web_actvy_dt,\n",
    "            %s\n",
    "     from mktgone.website_visits a\n",
    "\n",
    "\n",
    "     where web_actvy_dt >= '%s' and web_actvy_dt < '%s'\n",
    "     and pgvw_seq_num = 1\n",
    "     and %s is not null\n",
    "     and %s not in ('Z')\n",
    "     %s and vst_seq_num = 1\n",
    "     )\n",
    "\n",
    "    group by 1,2 \n",
    "    order by web_date\n",
    "    '''%(dim,dim,dim,start,end,dim,dim,unique)\n",
    "    results = cur.execute(query)\n",
    "    dF = pd.DataFrame(cur.fetchall(),columns=[i[0].lower() for i in cur.description])\n",
    "    return dF\n",
    "\n",
    "\n",
    "# In[17]:\n",
    "\n",
    "def buttonBuild(dF,dim):\n",
    "    print ('building boolean array')\n",
    "    dataSets = dF[dim].drop_duplicates().values\n",
    "    print ('data now:'+dataSets)\n",
    "    entityCount=int(dataSets.shape[0])\n",
    "    a = np.zeros((entityCount,entityCount),int)\n",
    "    np.fill_diagonal(a,1)\n",
    "    vec = np.vectorize(bool)\n",
    "    conv = vec(a)\n",
    "\n",
    "    listed = conv.tolist()\n",
    "    dataCol = [[True]*entityCount]+listed\n",
    "    return dataCol\n",
    "\n",
    "\n",
    "# In[22]:\n",
    "\n",
    "\n",
    "\n",
    "\n",
    "# In[43]:\n",
    "\n",
    "def graphBuilder(dF,entity,dataCol):\n",
    "    print ('doing something amazing')\n",
    "    dataSets = []\n",
    "    buttonsSet =[]\n",
    "    iterCount = 0\n",
    "\n",
    "\n",
    "    for itteratedKey in dF[entity].drop_duplicates().values:\n",
    "\n",
    "        trace = Scatter(\n",
    "                    x = dF[dF[entity]==itteratedKey]['web_date'],\n",
    "                    y = dF[dF[entity]==itteratedKey]['count'], \n",
    "                    line=Line(  width=3 ), \n",
    "                    name=itteratedKey) \n",
    "        dataSets.append(trace)\n",
    "\n",
    "        if iterCount == 0:\n",
    "            buttonVal = dict(args = ['visible',dataCol[0]],\n",
    "                             label='All',method='restyle')\n",
    "            buttonsSet.append(buttonVal)\n",
    "\n",
    "        buttonVal = dict(args = ['visible',dataCol[iterCount+1]],\n",
    "                     label=itteratedKey,method='restyle')\n",
    "\n",
    "        buttonsSet.append(buttonVal)\n",
    "        iterCount +=1\n",
    "\n",
    "\n",
    "    data = Data(dataSets)\n",
    "\n",
    "\n",
    "    layout = Layout( \n",
    "                title='Total Visitors', \n",
    "                updatemenus=[ dict( x=-0.05, \n",
    "                                         y=1, \n",
    "                                         yanchor='top', \n",
    "                                         buttons=buttonsSet, \n",
    "                                       )\n",
    "                                 ], \n",
    "                ) \n",
    "    print(buttonsSet)\n",
    "    print(dataSets) \n",
    "    fig = Figure(data=data, layout=layout) \n",
    "    return py.plotly.iplot(fig)\n",
    "\n",
    "\n",
    "# In[44]:\n",
    "\n",
    "def run():\n",
    "    entityDim = selector('dimension',validValues)\n",
    "    uniqueness = selector('uniqueness',validValues)\n",
    "    startDt = datePicker(0)\n",
    "    endDt = datePicker(1)\n",
    "    rawDataFrame = dataPull(entityDim,startDt,endDt,uniqueness)\n",
    "    \n",
    "    boolArray = buttonBuild(rawDataFrame,entityDim)\n",
    "    return graphBuilder(rawDataFrame,entityDim,boolArray)\n",
    "    \n",
    "\n"
   ]
  },
  {
   "cell_type": "code",
   "execution_count": 16,
   "metadata": {
    "collapsed": true
   },
   "outputs": [],
   "source": [
    "def run():\n",
    "    #entityDim = selector('dimension',validValues)\n",
    "    #uniqueness = selector('uniqueness',validValues)\n",
    "    #startDt = datePicker(0)\n",
    "    #endDt = datePicker(1)\n",
    "    #rawDataFrame = dataPull(entityDim,startDt,endDt,uniqueness)\n",
    "    rawDataFrame = pd.DataFrame([['2015-01-01',10,'mcd'],\n",
    "                    ['2015-02-01',14,'mcd'],\n",
    "                    ['2015-03-01',20,'mcd'],\n",
    "                    ['2015-04-01',15,'mcd'],\n",
    "                    ['2015-05-01',22,'mcd'],\n",
    "                    ['2015-01-01',6,'tb'],\n",
    "                    ['2015-02-01',9,'tb'],\n",
    "                    ['2015-03-01',2,'tb'],\n",
    "                    ['2015-04-01',8,'tb'],\n",
    "                    ['2015-05-01',4,'tb']],\n",
    "                    columns = ['web_date','count','place'])\n",
    "    \n",
    "    boolArray = buttonBuild(rawDataFrame,'place')\n",
    "    return graphBuilder(rawDataFrame,'place',boolArray)"
   ]
  },
  {
   "cell_type": "code",
   "execution_count": 78,
   "metadata": {
    "collapsed": false
   },
   "outputs": [
    {
     "name": "stdout",
     "output_type": "stream",
     "text": [
      "building boolean array\n",
      "doing something amazing\n",
      "[{'args': ['visible', [True, True]], 'label': 'All', 'method': 'restyle'}, {'args': ['visible', [True, False]], 'label': 'mcd', 'method': 'restyle'}, {'args': ['visible', [False, True]], 'label': 'tb', 'method': 'restyle'}]\n"
     ]
    }
   ],
   "source": [
    "\n",
    "\n",
    "def buttonBuild(dF,dim):\n",
    "    print ('building boolean array')\n",
    "    dataSets = dF[dim].drop_duplicates().values\n",
    "    #print (dataSets)\n",
    "    entityCount=int(dataSets.shape[0])\n",
    "    a = np.zeros((entityCount,entityCount),int)\n",
    "    np.fill_diagonal(a,1)\n",
    "    vec = np.vectorize(bool)\n",
    "    conv = vec(a)\n",
    "\n",
    "    listed = conv.tolist()\n",
    "    dataCol = [[True]*entityCount]+listed\n",
    "    return dataCol\n",
    "\n",
    "\n",
    "def graphBuilder(dF,entity,dataCol):\n",
    "    print ('doing something amazing')\n",
    "    dataSets = []\n",
    "    buttonsSet =[]\n",
    "    iterCount = 0\n",
    "\n",
    "\n",
    "    for itteratedKey in dF[entity].drop_duplicates().values:\n",
    "\n",
    "        trace = Scatter(\n",
    "                    x = dF[dF[entity]==itteratedKey]['web_date'],\n",
    "                    y = dF[dF[entity]==itteratedKey]['count'], \n",
    "                    line=Line(  width=3 ), \n",
    "                    name=itteratedKey) \n",
    "        dataSets.append(trace)\n",
    "\n",
    "        if iterCount == 0:\n",
    "            buttonVal = dict(args = ['visible',dataCol[0]],\n",
    "                             label='All',method='restyle')\n",
    "            buttonsSet.append(buttonVal)\n",
    "\n",
    "        buttonVal = dict(args = ['visible',dataCol[iterCount+1]],\n",
    "                     label=itteratedKey,method='restyle')\n",
    "\n",
    "        buttonsSet.append(buttonVal)\n",
    "        iterCount +=1\n",
    "\n",
    "\n",
    "    data = Data(dataSets)\n",
    "\n",
    "\n",
    "    layout = Layout( \n",
    "                title='Total Visitors', \n",
    "                updatemenus=[ dict( x=-0.05, \n",
    "                                         y=1, \n",
    "                                         yanchor='top', \n",
    "                                         buttons=buttonsSet, \n",
    "                                       )\n",
    "                                 ], \n",
    "                ) \n",
    "    print(buttonsSet)\n",
    "    #print(dataSets) \n",
    "    fig = Figure(data=data, layout=layout) \n",
    "    #return py.offline.plot(fig, include_plotlyjs=False, output_type='div', filename='plotlyTest')\n",
    "\n",
    "\n",
    "\n",
    "\n",
    "\n",
    "\n",
    "rawDataFrame = pd.DataFrame([['2015-01-01',10,'mcd'],\n",
    "                ['2015-02-01',14,'mcd'],\n",
    "                ['2015-03-01',20,'mcd'],\n",
    "                ['2015-04-01',15,'mcd'],\n",
    "                ['2015-05-01',22,'mcd'],\n",
    "                ['2015-01-01',6,'tb'],\n",
    "                ['2015-02-01',9,'tb'],\n",
    "                ['2015-03-01',2,'tb'],\n",
    "                ['2015-04-01',8,'tb'],\n",
    "                ['2015-05-01',4,'tb']],\n",
    "                columns = ['web_date','count','place'])\n",
    "\n",
    "boolArray = buttonBuild(rawDataFrame,'place')\n",
    "\n",
    "fig = graphBuilder(rawDataFrame,'place',boolArray)"
   ]
  },
  {
   "cell_type": "code",
   "execution_count": 45,
   "metadata": {
    "collapsed": false
   },
   "outputs": [
    {
     "name": "stdout",
     "output_type": "stream",
     "text": [
      "<div id=\"93fd45e6-a981-4bec-9cc4-aa35def09374\" style=\"height: 100%; width: 100%;\" class=\"plotly-graph-div\"></div><script type=\"text/javascript\">window.PLOTLYENV=window.PLOTLYENV || {};window.PLOTLYENV.BASE_URL=\"https://plot.ly\";Plotly.newPlot(\"93fd45e6-a981-4bec-9cc4-aa35def09374\", [{\"type\": \"scatter\", \"x\": [\"2015-01-01\", \"2015-02-01\", \"2015-03-01\", \"2015-04-01\", \"2015-05-01\"], \"y\": [10, 14, 20, 15, 22], \"line\": {\"width\": 3}, \"name\": \"mcd\"}, {\"type\": \"scatter\", \"x\": [\"2015-01-01\", \"2015-02-01\", \"2015-03-01\", \"2015-04-01\", \"2015-05-01\"], \"y\": [6, 9, 2, 8, 4], \"line\": {\"width\": 3}, \"name\": \"tb\"}], {\"title\": \"Total Visitors\", \"updatemenus\": [{\"x\": -0.05, \"y\": 1, \"yanchor\": \"top\", \"buttons\": [{\"args\": [\"visible\", [true, true]], \"label\": \"All\", \"method\": \"restyle\"}, {\"args\": [\"visible\", [true, false]], \"label\": \"mcd\", \"method\": \"restyle\"}, {\"args\": [\"visible\", [false, true]], \"label\": \"tb\", \"method\": \"restyle\"}]}]}, {\"showLink\": true, \"linkText\": \"Export to plot.ly\"})</script>\n"
     ]
    }
   ],
   "source": [
    "print(fig)"
   ]
  },
  {
   "cell_type": "code",
   "execution_count": 15,
   "metadata": {
    "collapsed": false,
    "scrolled": true
   },
   "outputs": [
    {
     "name": "stdout",
     "output_type": "stream",
     "text": [
      "building boolean array\n",
      "['data now:mcd' 'data now:tb']\n",
      "doing something amazing\n",
      "[{'args': ['visible', [True, True]], 'label': 'All', 'method': 'restyle'}, {'args': ['visible', [True, False]], 'label': 'mcd', 'method': 'restyle'}, {'args': ['visible', [False, True]], 'label': 'tb', 'method': 'restyle'}]\n",
      "[{'type': 'scatter', 'x': 0    2015-01-01\n",
      "1    2015-02-01\n",
      "2    2015-03-01\n",
      "3    2015-04-01\n",
      "4    2015-05-01\n",
      "Name: web_date, dtype: object, 'y': 0    10\n",
      "1    14\n",
      "2    20\n",
      "3    15\n",
      "4    22\n",
      "Name: count, dtype: int64, 'line': {'width': 3}, 'name': 'mcd'}, {'type': 'scatter', 'x': 5    2015-01-01\n",
      "6    2015-02-01\n",
      "7    2015-03-01\n",
      "8    2015-04-01\n",
      "9    2015-04-01\n",
      "Name: web_date, dtype: object, 'y': 5    6\n",
      "6    9\n",
      "7    2\n",
      "8    8\n",
      "9    4\n",
      "Name: count, dtype: int64, 'line': {'width': 3}, 'name': 'tb'}]\n"
     ]
    },
    {
     "data": {
      "text/html": [
       "<iframe id=\"igraph\" scrolling=\"no\" style=\"border:none;\" seamless=\"seamless\" src=\"https://plot.ly/~CJ_Foley/94.embed\" height=\"525px\" width=\"100%\"></iframe>"
      ],
      "text/plain": [
       "<plotly.tools.PlotlyDisplay object>"
      ]
     },
     "execution_count": 15,
     "metadata": {},
     "output_type": "execute_result"
    }
   ],
   "source": [
    "run()"
   ]
  },
  {
   "cell_type": "code",
   "execution_count": null,
   "metadata": {
    "collapsed": true
   },
   "outputs": [],
   "source": []
  },
  {
   "cell_type": "code",
   "execution_count": null,
   "metadata": {
    "collapsed": true
   },
   "outputs": [],
   "source": []
  },
  {
   "cell_type": "code",
   "execution_count": null,
   "metadata": {
    "collapsed": true
   },
   "outputs": [],
   "source": []
  },
  {
   "cell_type": "code",
   "execution_count": null,
   "metadata": {
    "collapsed": true
   },
   "outputs": [],
   "source": []
  },
  {
   "cell_type": "code",
   "execution_count": 67,
   "metadata": {
    "collapsed": true
   },
   "outputs": [],
   "source": [
    "rawDF = pd.DataFrame([['2015-01-01','mcd','positive',10],\n",
    "                ['2015-01-01','mcd','negative',11],\n",
    "                ['2015-01-01','mcd','neutral' ,15],          \n",
    "                ['2015-02-01','mcd','positive',16],\n",
    "                ['2015-02-01','mcd','negative',30],\n",
    "                ['2015-02-01','mcd','neutral' ,20],             \n",
    "                ['2015-03-01','mcd','positive',10],\n",
    "                ['2015-03-01','mcd','negative',15],\n",
    "                ['2015-03-01','mcd','neutral' ,10],            \n",
    "                ['2015-04-01','mcd','positive',19],\n",
    "                ['2015-04-01','mcd','negative',21],\n",
    "                ['2015-04-01','mcd','neutral' ,22],          \n",
    "                ['2015-01-01','tb' ,'positive',45],                            \n",
    "                ['2015-01-01','tb' ,'negative',10],\n",
    "                ['2015-01-01','tb' ,'neutral' ,17],   \n",
    "                ['2015-02-01','tb' ,'positive',44],\n",
    "                ['2015-02-01','tb' ,'negative',30],\n",
    "                ['2015-02-01','tb' ,'neutral' ,10],       \n",
    "                ['2015-03-01','tb' ,'positive',32],\n",
    "                ['2015-03-01','tb' ,'negative',42],\n",
    "                ['2015-03-01','tb' ,'neutral' ,41],             \n",
    "                ['2015-04-01','tb' ,'positive',33],\n",
    "                ['2015-04-01','tb' ,'negative',10],\n",
    "                ['2015-04-01','tb' ,'neutral' ,10]],\n",
    "                columns = ['date','company','sentiment','responses'])"
   ]
  },
  {
   "cell_type": "code",
   "execution_count": 70,
   "metadata": {
    "collapsed": true
   },
   "outputs": [],
   "source": [
    "import plotly.graph_objs as go"
   ]
  },
  {
   "cell_type": "code",
   "execution_count": 105,
   "metadata": {
    "collapsed": false
   },
   "outputs": [
    {
     "data": {
      "text/plain": [
       "array([['mcd', 'positive'],\n",
       "       ['mcd', 'negative'],\n",
       "       ['mcd', 'neutral'],\n",
       "       ['tb', 'positive'],\n",
       "       ['tb', 'negative'],\n",
       "       ['tb', 'neutral']], dtype=object)"
      ]
     },
     "execution_count": 105,
     "metadata": {},
     "output_type": "execute_result"
    }
   ],
   "source": []
  },
  {
   "cell_type": "code",
   "execution_count": 100,
   "metadata": {
    "collapsed": true
   },
   "outputs": [
    {
     "data": {
      "text/html": [
       "<iframe id=\"igraph\" scrolling=\"no\" style=\"border:none;\" seamless=\"seamless\" src=\"https://plot.ly/~CJ_Foley/100.embed\" height=\"525px\" width=\"100%\"></iframe>"
      ],
      "text/plain": [
       "<plotly.tools.PlotlyDisplay object>"
      ]
     },
     "execution_count": 100,
     "metadata": {},
     "output_type": "execute_result"
    }
   ],
   "source": [
    "currData = rawDF[(rawDF.company == 'mcd') & (rawDF.sentiment == 'positive')]\n",
    "mcdPositive = go.Bar(x = currData.date,\n",
    "                     y = currData.responses,\n",
    "                     name = 'positive',\n",
    "                     marker=dict(color='rgb(0,255,0)',\n",
    "                                 line=dict(color='black',\n",
    "                                           width=1.5,\n",
    "                                          )\n",
    "                                ),\n",
    "                     opacity=0.5)\n",
    "\n",
    "currData = rawDF[(rawDF.company == 'mcd') & (rawDF.sentiment == 'negative')]\n",
    "mcdNegative = go.Bar(x = currData.date,\n",
    "                     y = currData.responses,\n",
    "                     name = 'negative',\n",
    "                     marker=dict(color='rgb(255,0,0)',\n",
    "                                 line=dict(color='black',\n",
    "                                           width=1.5,\n",
    "                                          )\n",
    "                                ),\n",
    "                     opacity=0.5)\n",
    "\n",
    "currData = rawDF[(rawDF.company == 'tb') & (rawDF.sentiment == 'positive')]\n",
    "tbPositive = go.Bar(x = currData.date,\n",
    "                     y = currData.responses,\n",
    "                     name = 'positive',\n",
    "                     visible = False,\n",
    "                     marker=dict(color='rgb(0,255,0)',\n",
    "                                 line=dict(color='black',\n",
    "                                           width=1.5,\n",
    "                                          )\n",
    "                                ),\n",
    "                     opacity=0.5)\n",
    "\n",
    "currData = rawDF[(rawDF.company == 'tb') & (rawDF.sentiment == 'negative')]\n",
    "tbNegative = go.Bar(x = currData.date,\n",
    "                     y = currData.responses,\n",
    "                     name = 'negative',\n",
    "                     visible = False,\n",
    "                     marker=dict(color='rgb(255,0,0)',\n",
    "                                 line=dict(color='black',\n",
    "                                           width=1.5,\n",
    "                                          )\n",
    "                                ),\n",
    "                     opacity=0.5)\n",
    "\n",
    "\n",
    "buttonsSet=[{'args': ['visible', [True, True, False, False]], 'label': 'mcd', 'method': 'restyle'}, \n",
    "         {'args': ['visible', [False, False, True, True]], 'label': 'tb', 'method': 'restyle'}]\n",
    "\n",
    "\n",
    "\n",
    "data = [mcdNegative, mcdPositive, tbNegative, tbPositive]\n",
    "layout = go.Layout(\n",
    "            title='Total Visits',\n",
    "            barmode='stack',\n",
    "            updatemenus=[ dict( x=-0.05, \n",
    "                                         y=1, \n",
    "                                         yanchor='top', \n",
    "                                         buttons=buttonsSet, \n",
    "                                       )\n",
    "                                 ],\n",
    ")\n",
    "\n",
    "\n",
    "\n",
    "\n",
    "\n",
    "\n",
    "fig = go.Figure(data=data,layout=layout)\n",
    "py.plotly.iplot(fig,filename='barTest')\n",
    "#trace1 = go.Bar(x = rawDF[(rawDF.company == 'mcd') & (rawDF.sentiment == 'positive')]"
   ]
  },
  {
   "cell_type": "code",
   "execution_count": 128,
   "metadata": {
    "collapsed": true
   },
   "outputs": [],
   "source": [
    "keyArray = rawDF[index].drop_duplicates()\n",
    "keyArrayIndex1 = rawDF[index[0]].drop_duplicates().values"
   ]
  },
  {
   "cell_type": "code",
   "execution_count": 131,
   "metadata": {
    "collapsed": false
   },
   "outputs": [
    {
     "ename": "NameError",
     "evalue": "name 'company' is not defined",
     "output_type": "error",
     "traceback": [
      "\u001b[0;31m---------------------------------------------------------------------------\u001b[0m",
      "\u001b[0;31mNameError\u001b[0m                                 Traceback (most recent call last)",
      "\u001b[0;32m<ipython-input-131-a4ee6433e3f6>\u001b[0m in \u001b[0;36m<module>\u001b[0;34m()\u001b[0m\n\u001b[0;32m----> 1\u001b[0;31m \u001b[0mkeyArray\u001b[0m\u001b[0;34m[\u001b[0m\u001b[0;34m[\u001b[0m\u001b[0mcompany\u001b[0m\u001b[0;34m==\u001b[0m\u001b[0;34m'mcd'\u001b[0m\u001b[0;34m]\u001b[0m\u001b[0;34m]\u001b[0m\u001b[0;34m\u001b[0m\u001b[0m\n\u001b[0m",
      "\u001b[0;31mNameError\u001b[0m: name 'company' is not defined"
     ]
    }
   ],
   "source": [
    "currData = rawDF[(rawDF.company == 'mcd')] & (rawDF.sentiment == 'positive')]\n",
    "keyArray[[company=='mcd']]"
   ]
  },
  {
   "cell_type": "code",
   "execution_count": null,
   "metadata": {
    "collapsed": true
   },
   "outputs": [],
   "source": [
    "rawDF = pd.DataFrame([['2015-01-01','mcd','positive',10],\n",
    "                ['2015-01-01','mcd','negative',11],\n",
    "                ['2015-01-01','mcd','neutral' ,15],          \n",
    "                ['2015-02-01','mcd','positive',16],\n",
    "                ['2015-02-01','mcd','negative',30],\n",
    "                ['2015-02-01','mcd','neutral' ,20],             \n",
    "                ['2015-03-01','mcd','positive',10],\n",
    "                ['2015-03-01','mcd','negative',15],\n",
    "                ['2015-03-01','mcd','neutral' ,10],            \n",
    "                ['2015-04-01','mcd','positive',19],\n",
    "                ['2015-04-01','mcd','negative',21],\n",
    "                ['2015-04-01','mcd','neutral' ,22],          \n",
    "                ['2015-01-01','tb' ,'positive',45],                            \n",
    "                ['2015-01-01','tb' ,'negative',10],\n",
    "                ['2015-01-01','tb' ,'neutral' ,17],   \n",
    "                ['2015-02-01','tb' ,'positive',44],\n",
    "                ['2015-02-01','tb' ,'negative',30],\n",
    "                ['2015-02-01','tb' ,'neutral' ,10],       \n",
    "                ['2015-03-01','tb' ,'positive',32],\n",
    "                ['2015-03-01','tb' ,'negative',42],\n",
    "                ['2015-03-01','tb' ,'neutral' ,41],             \n",
    "                ['2015-04-01','tb' ,'positive',33],\n",
    "                ['2015-04-01','tb' ,'negative',10],\n",
    "                ['2015-04-01','tb' ,'neutral' ,10]],\n",
    "                columns = ['date','company','sentiment','responses'])"
   ]
  },
  {
   "cell_type": "code",
   "execution_count": null,
   "metadata": {
    "collapsed": true
   },
   "outputs": [],
   "source": [
    "buttonsSet=[{'args': ['visible', [True, True, False, False]], 'label': 'mcd', 'method': 'restyle'}, \n",
    "         {'args': ['visible', [False, False, True, True]], 'label': 'tb', 'method': 'restyle'}]\n"
   ]
  },
  {
   "cell_type": "code",
   "execution_count": 177,
   "metadata": {
    "collapsed": true
   },
   "outputs": [],
   "source": [
    "index = ['company','sentiment']\n",
    "colorCode = {'positive': 'rgb(0,255,0)',\n",
    "             'neutral' : 'rgb(0,0,255)',\n",
    "             'negative': 'rgb(255,0,0)',\n",
    "             'other': 'rgb(50,50,50)'}\n",
    "data=[]\n",
    "buttonSet = []\n",
    "keyArray = rawDF[index].drop_duplicates()\n",
    "keyArrayIndex1 = rawDF[index[0]].drop_duplicates().values"
   ]
  },
  {
   "cell_type": "code",
   "execution_count": null,
   "metadata": {
    "collapsed": true
   },
   "outputs": [],
   "source": [
    "def buttonBuild(dF,dim):\n",
    "    print ('building boolean array')\n",
    "    dataSets = dF[dim].drop_duplicates().values\n",
    "    print ('data now:'+dataSets)\n",
    "    entityCount=int(dataSets.shape[0])\n",
    "    a = np.zeros((entityCount,entityCount),int)\n",
    "    np.fill_diagonal(a,1)\n",
    "    vec = np.vectorize(bool)\n",
    "    conv = vec(a)\n",
    "\n",
    "    listed = conv.tolist()\n",
    "    dataCol = [[True]*entityCount]+listed\n",
    "    return dataCol"
   ]
  },
  {
   "cell_type": "code",
   "execution_count": 164,
   "metadata": {
    "collapsed": false
   },
   "outputs": [
    {
     "data": {
      "text/plain": [
       "False"
      ]
     },
     "execution_count": 164,
     "metadata": {},
     "output_type": "execute_result"
    }
   ],
   "source": [
    "curButton[0]"
   ]
  },
  {
   "cell_type": "code",
   "execution_count": 199,
   "metadata": {
    "collapsed": false
   },
   "outputs": [
    {
     "name": "stdout",
     "output_type": "stream",
     "text": [
      "[False, False, False, False, False, False]\n",
      "[False, True, False, False, False, False]\n"
     ]
    }
   ],
   "source": [
    "newList = baseButton\n",
    "print(baseButton)\n",
    "\n",
    "newList[1]=True\n",
    "print(baseButton)"
   ]
  },
  {
   "cell_type": "code",
   "execution_count": 225,
   "metadata": {
    "collapsed": false
   },
   "outputs": [
    {
     "data": {
      "text/plain": [
       "13    negative\n",
       "14     neutral\n",
       "12    positive\n",
       "Name: sentiment, dtype: object"
      ]
     },
     "execution_count": 225,
     "metadata": {},
     "output_type": "execute_result"
    }
   ],
   "source": [
    "keyArray[(keyArray.company == outerEntry)][index[1]].sort_values()"
   ]
  },
  {
   "cell_type": "code",
   "execution_count": 220,
   "metadata": {
    "collapsed": false
   },
   "outputs": [
    {
     "name": "stdout",
     "output_type": "stream",
     "text": [
      "positive\n",
      "negative\n",
      "neutral\n"
     ]
    }
   ],
   "source": [
    "for entry in keyArray[(keyArray.company == outerEntry)][index[1]].values:\n",
    "    print(entry)"
   ]
  },
  {
   "cell_type": "code",
   "execution_count": 226,
   "metadata": {
    "collapsed": false
   },
   "outputs": [
    {
     "name": "stdout",
     "output_type": "stream",
     "text": [
      "mcd\n",
      "negative\n",
      "neutral\n",
      "positive\n",
      "tb\n",
      "negative\n",
      "neutral\n",
      "positive\n",
      "[{'args': ['visible', [True, True, True, False, False, False]], 'label': 'mcd', 'method': 'restyle'}, {'args': ['visible', [False, False, False, True, True, True]], 'label': 'tb', 'method': 'restyle'}]\n"
     ]
    }
   ],
   "source": [
    "index = ['company','sentiment']\n",
    "colorCode = {'positive': 'rgb(0,255,0)',\n",
    "             'neutral' : 'rgb(0,0,255)',\n",
    "             'negative': 'rgb(255,0,0)',\n",
    "             'other': 'rgb(50,50,50)'}\n",
    "data=[]\n",
    "buttonSet = []\n",
    "keyArray = rawDF[index].drop_duplicates()\n",
    "keyArrayIndex1 = rawDF[index[0]].drop_duplicates().values\n",
    "baseButton = ['False']*keyArray.shape[0]\n",
    "\n",
    "pos = 0\n",
    "baseButton = keyArray.shape[0]*[False]\n",
    "visible = True\n",
    "\n",
    "for outerEntry in keyArrayIndex1:\n",
    "    curButton = baseButton.copy()\n",
    "    print(outerEntry)\n",
    "    for innerEntry in keyArray[(keyArray.company == outerEntry)][index[1]].sort_values():\n",
    "        print(innerEntry)\n",
    "        currData = rawDF[(rawDF.company == outerEntry) & (rawDF.sentiment == innerEntry)]\n",
    "        currGraph = go.Bar(x = currData.date,\n",
    "                     y = currData.responses,\n",
    "                     name = innerEntry,\n",
    "                     visible = visible,\n",
    "                     marker=dict(color=colorCode[innerEntry],\n",
    "                                 line=dict(color='black',\n",
    "                                           width=1.5,\n",
    "                                          )\n",
    "                                ),\n",
    "                     opacity=0.5)\n",
    "        curButton[pos]=True\n",
    "        pos+=1\n",
    "        data.append(currGraph)\n",
    "    visible = False\n",
    "    button = {'args': ['visible', curButton], 'label': outerEntry, 'method': 'restyle'}\n",
    "    buttonSet.append(button)\n",
    "\n",
    "    \n",
    "print (buttonSet)\n",
    "\n",
    "        "
   ]
  },
  {
   "cell_type": "code",
   "execution_count": 227,
   "metadata": {
    "collapsed": false
   },
   "outputs": [
    {
     "data": {
      "text/html": [
       "<iframe id=\"igraph\" scrolling=\"no\" style=\"border:none;\" seamless=\"seamless\" src=\"https://plot.ly/~CJ_Foley/100.embed\" height=\"525px\" width=\"100%\"></iframe>"
      ],
      "text/plain": [
       "<plotly.tools.PlotlyDisplay object>"
      ]
     },
     "execution_count": 227,
     "metadata": {},
     "output_type": "execute_result"
    }
   ],
   "source": [
    "layout = go.Layout(\n",
    "            title='Total Visits',\n",
    "            barmode='stack',\n",
    "            updatemenus=[ dict( x=-0.05, \n",
    "                                         y=1, \n",
    "                                         yanchor='top', \n",
    "                                         buttons=buttonSet, \n",
    "                                       )\n",
    "                                 ],\n",
    ")\n",
    "\n",
    "\n",
    "\n",
    "\n",
    "\n",
    "\n",
    "fig = go.Figure(data=data,layout=layout)\n",
    "py.plotly.iplot(fig,filename='barTest')"
   ]
  },
  {
   "cell_type": "code",
   "execution_count": null,
   "metadata": {
    "collapsed": true
   },
   "outputs": [],
   "source": []
  },
  {
   "cell_type": "code",
   "execution_count": null,
   "metadata": {
    "collapsed": true
   },
   "outputs": [],
   "source": []
  },
  {
   "cell_type": "code",
   "execution_count": null,
   "metadata": {
    "collapsed": true
   },
   "outputs": [],
   "source": []
  },
  {
   "cell_type": "code",
   "execution_count": null,
   "metadata": {
    "collapsed": true
   },
   "outputs": [],
   "source": []
  },
  {
   "cell_type": "code",
   "execution_count": null,
   "metadata": {
    "collapsed": true
   },
   "outputs": [],
   "source": []
  },
  {
   "cell_type": "code",
   "execution_count": 118,
   "metadata": {
    "collapsed": false
   },
   "outputs": [
    {
     "data": {
      "text/plain": [
       "array(['mcd', 'positive'], dtype=object)"
      ]
     },
     "execution_count": 118,
     "metadata": {},
     "output_type": "execute_result"
    }
   ],
   "source": [
    "buttonsSet=[{'args': ['visible', [True, True, False, False]], 'label': 'mcd', 'method': 'restyle'}, \n",
    "         {'args': ['visible', [False, False, True, True]], 'label': 'tb', 'method': 'restyle'}]\n"
   ]
  },
  {
   "cell_type": "code",
   "execution_count": 112,
   "metadata": {
    "collapsed": false
   },
   "outputs": [
    {
     "name": "stdout",
     "output_type": "stream",
     "text": [
      "['mcd' 'positive']\n",
      "['mcd' 'negative']\n",
      "['mcd' 'neutral']\n",
      "['tb' 'positive']\n",
      "['tb' 'negative']\n",
      "['tb' 'neutral']\n"
     ]
    }
   ],
   "source": [
    "\n",
    "index = ['company','sentiment']\n",
    "colorCode = {'positive': 'rgb(0,255,0)',\n",
    "             'netural' : 'rgb(0,0,255)',\n",
    "             'negative': 'rgb(255,0,0)',\n",
    "             'other': 'rgb(50,50,50)'}\n",
    "data=[]\n",
    "\n",
    "for entry in rawDF[index].drop_duplicates().values:\n",
    "    \n",
    "    currData = rawDF[(rawDF.company == entry[0]) & (rawDF.sentiment == entry[1])]\n",
    "    graph = go.Bar(x = currData.date,\n",
    "                   y = currData.responses,\n",
    "                   name = 'positive',\n",
    "                   marker=dict(color=colorCode[entry[1]],\n",
    "                               line=dict(color='black',\n",
    "                                         width=1.5,\n",
    "                                        )\n",
    "                              ),\n",
    "                   opacity=0.5)\n",
    "    data.append[graph]\n"
   ]
  },
  {
   "cell_type": "code",
   "execution_count": 113,
   "metadata": {
    "collapsed": false
   },
   "outputs": [
    {
     "data": {
      "text/plain": [
       "'rgb(0,255,0)'"
      ]
     },
     "execution_count": 113,
     "metadata": {},
     "output_type": "execute_result"
    }
   ],
   "source": [
    "colorCode = {'positive': 'rgb(0,255,0)',\n",
    "             'netural' : 'rgb(0,0,255)',\n",
    "             'negative': 'rgb(255,0,0)',\n",
    "             'other': 'rgb(50,50,50)'}\n",
    "\n",
    "colorCode['positive']"
   ]
  }
 ],
 "metadata": {
  "anaconda-cloud": {},
  "kernelspec": {
   "display_name": "Python [default]",
   "language": "python",
   "name": "python2"
  },
  "language_info": {
   "codemirror_mode": {
    "name": "ipython",
    "version": 2
   },
   "file_extension": ".py",
   "mimetype": "text/x-python",
   "name": "python",
   "nbconvert_exporter": "python",
   "pygments_lexer": "ipython2",
   "version": "2.7.12"
  }
 },
 "nbformat": 4,
 "nbformat_minor": 1
}
